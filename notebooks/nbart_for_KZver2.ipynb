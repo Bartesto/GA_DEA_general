{
 "cells": [
  {
   "cell_type": "code",
   "execution_count": 2,
   "metadata": {
    "ExecuteTime": {
     "end_time": "2016-06-09T11:09:06.502514",
     "start_time": "2016-06-09T11:09:04.805211"
    }
   },
   "outputs": [],
   "source": [
    "import datacube\n",
    "#from datacube_stats.statistics import GeoMedian\n",
    "from datacube.helpers import ga_pq_fuser\n",
    "from datacube.storage import masking\n",
    "from datacube.helpers import write_geotiff\n",
    "\n",
    "# Create datacube instance\n",
    "dc = datacube.Datacube(app='Basic geomedian example')"
   ]
  },
  {
   "cell_type": "code",
   "execution_count": 3,
   "metadata": {},
   "outputs": [],
   "source": [
    "# Set up analysis data query that defines time and spatial extent. This example uses coordinates \n",
    "# in the native coordinate system of the DigitalEarthAustralia data (Australian Albers, EPSG:3577)\n",
    "query = {'x': (-942454.506693, -734480.898850),\n",
    "         'y': (-3232064.560459, -3421972.365641),\n",
    "         'time': ('2016-05-11', '2016-05-12'),\n",
    "         'crs': 'EPSG:3577'}\n"
   ]
  },
  {
   "cell_type": "markdown",
   "metadata": {},
   "source": [
    "## PQ and Index preparation\n"
   ]
  },
  {
   "cell_type": "code",
   "execution_count": null,
   "metadata": {},
   "outputs": [],
   "source": [
    "# Return observations for the matching query \n",
    "landsat_ds = dc.load(product = 'ls8_nbart_albers', \n",
    "                     group_by = 'solar_day', \n",
    "                     **query)\n",
    "\n",
    "# Plot as RGB image\n",
    "#landsat_ds[['red', 'green', 'blue']].to_array().plot.imshow(col='time', col_wrap=3, robust=True)"
   ]
  },
  {
   "cell_type": "code",
   "execution_count": null,
   "metadata": {},
   "outputs": [],
   "source": []
  }
 ],
 "metadata": {
  "anaconda-cloud": {},
  "kernelspec": {
   "display_name": "Python 3",
   "language": "python",
   "name": "python3"
  },
  "language_info": {
   "codemirror_mode": {
    "name": "ipython",
    "version": 3
   },
   "file_extension": ".py",
   "mimetype": "text/x-python",
   "name": "python",
   "nbconvert_exporter": "python",
   "pygments_lexer": "ipython3",
   "version": "3.6.3"
  },
  "toc": {
   "toc_cell": false,
   "toc_number_sections": false,
   "toc_threshold": 6,
   "toc_window_display": true
  }
 },
 "nbformat": 4,
 "nbformat_minor": 1
}
